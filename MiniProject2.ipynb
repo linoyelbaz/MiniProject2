{
 "cells": [
  {
   "cell_type": "code",
   "execution_count": 8,
   "id": "a9c0e3cb-8b92-4c44-b757-47cfba4c6041",
   "metadata": {},
   "outputs": [
    {
     "name": "stdout",
     "output_type": "stream",
     "text": [
      "         0           1           2           3           4           5     \\\n",
      "1  121.585938  128.078125  140.179688  135.187500  101.851562   75.820312   \n",
      "2 -337.725000 -338.283333 -334.625000 -323.558333 -313.175000 -309.916667   \n",
      "3 -377.333333 -367.991667 -346.641667 -336.325000 -344.958333 -365.325000   \n",
      "4  -92.447368  -89.542105  -91.615789  -84.073684  -58.947368  -34.610526   \n",
      "5 -180.351351 -171.594595 -185.486486 -201.135135 -192.472973 -170.932432   \n",
      "\n",
      "         6           7           8           9     ...        1191  \\\n",
      "1   97.250000  147.015625  173.390625  176.007812  ...   14.507812   \n",
      "2 -304.900000 -288.475000 -272.091667 -274.891667  ... -206.058333   \n",
      "3 -396.366667 -421.033333 -426.291667 -428.466667  ...  348.725000   \n",
      "4  -37.057895  -58.847368  -71.147368  -65.352632  ...  106.505263   \n",
      "5 -151.108108 -126.689189  -96.783784  -61.797297  ... -399.918919   \n",
      "\n",
      "         1192        1193        1194        1195        1196        1197  \\\n",
      "1   38.531250   65.179688   95.734375  136.234375  156.531250  120.414062   \n",
      "2 -201.683333 -200.783333 -210.908333 -227.050000 -236.250000 -246.375000   \n",
      "3  325.716667  309.966667  302.316667  295.416667  284.133333  273.916667   \n",
      "4   98.752632   87.463158   74.931579   74.200000   79.394737   79.300000   \n",
      "5 -399.878378 -397.675676 -399.310811 -404.148649 -400.108108 -364.783784   \n",
      "\n",
      "         1198        1199        1200  \n",
      "1   42.812500  -23.765625  -34.859375  \n",
      "2 -263.216667 -278.083333 -289.500000  \n",
      "3  265.883333  258.375000  251.183333  \n",
      "4   81.105263   87.200000   93.636842  \n",
      "5 -294.054054 -222.864865 -191.216216  \n",
      "\n",
      "[5 rows x 1201 columns]\n"
     ]
    }
   ],
   "source": [
    "import numpy as np\n",
    "import pandas as pd\n",
    "\n",
    "def calc_mean_erp(trial_points, ecog_data):\n",
    "    # Load trial points with appropriate column names\n",
    "    data = pd.read_csv(trial_points, header=None, names=['starting_point', 'peak_point', 'finger'])\n",
    "    \n",
    "    # Clean and convert data types to int for trial_points\n",
    "    trial_points_int = data.apply(pd.to_numeric, errors='coerce').dropna().astype(int)\n",
    "\n",
    "    # Load the ECOG data\n",
    "    ecog_data = pd.read_csv(ecog_data, header=None).to_numpy(dtype=np.float64).flatten()\n",
    "\n",
    "    # Time window constants\n",
    "    pre_start, post_start = 200, 1000\n",
    "    window_length = pre_start + post_start + 1\n",
    "\n",
    "    # Store ERPs by finger\n",
    "    fingers_erp = {finger: [] for finger in range(1, 6)}\n",
    "\n",
    "    # Extract segments for each event\n",
    "    for _, row in trial_points_int.iterrows():\n",
    "        start_idx, finger = row['starting_point'], row['finger']\n",
    "        if 0 <= start_idx - pre_start < len(ecog_data) - post_start:\n",
    "            segment = ecog_data[start_idx - pre_start:start_idx + post_start + 1]\n",
    "            fingers_erp[finger].append(segment)\n",
    "\n",
    "    # Calculate mean ERPs\n",
    "    fingers_erp_mean_matrix = np.array([\n",
    "        np.mean(fingers_erp[finger], axis=0) if fingers_erp[finger] else np.zeros(window_length)\n",
    "        for finger in range(1, 6)\n",
    "    ], dtype=np.float64)\n",
    "\n",
    "    # Create DataFrame for mean ERPs\n",
    "    fingers_erp_mean = pd.DataFrame(fingers_erp_mean_matrix, index=[str(finger) for finger in range(1, 6)], columns=np.arange(window_length))\n",
    "\n",
    "    print(fingers_erp_mean)\n",
    "\n",
    "    return fingers_erp_mean\n",
    "\n",
    "# Usage\n",
    "trial_points = r\"C:\\\\Users\\\\linoy\\\\OneDrive\\\\שולחן העבודה\\\\MiniProject Python\\\\mini_project_2_data\\\\events_file_ordered.csv\"\n",
    "ecog_data_file = r\"C:\\\\Users\\\\linoy\\\\OneDrive\\\\שולחן העבודה\\\\MiniProject Python\\\\mini_project_2_data\\\\brain_data_channel_one.csv\"\n",
    "fingers_erp_mean = calc_mean_erp(trial_points, ecog_data_file)\n"
   ]
  }
 ],
 "metadata": {
  "kernelspec": {
   "display_name": "Python 3",
   "language": "python",
   "name": "python3"
  },
  "language_info": {
   "codemirror_mode": {
    "name": "ipython",
    "version": 3
   },
   "file_extension": ".py",
   "mimetype": "text/x-python",
   "name": "python",
   "nbconvert_exporter": "python",
   "pygments_lexer": "ipython3",
   "version": "3.13.0"
  }
 },
 "nbformat": 4,
 "nbformat_minor": 5
}
